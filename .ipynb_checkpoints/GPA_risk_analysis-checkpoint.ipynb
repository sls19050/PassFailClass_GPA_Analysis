{
 "cells": [
  {
   "cell_type": "markdown",
   "metadata": {},
   "source": [
    "# GPA analysis\n",
    "\n",
    "GPA analysis: How does taking P/F classes (0 to 3 classes) may impact your expected final GPA and GPA volatility?"
   ]
  },
  {
   "cell_type": "code",
   "execution_count": 144,
   "metadata": {},
   "outputs": [],
   "source": [
    "import numpy as np\n",
    "import pandas as pd\n",
    "import matplotlib.pyplot as plt"
   ]
  },
  {
   "cell_type": "code",
   "execution_count": 153,
   "metadata": {},
   "outputs": [],
   "source": [
    "#input current GPA\n",
    "currentGPA = 4.0\n",
    "\n",
    "#input number of courses taken\n",
    "numCoursesTaken = 4  #graded courses only\n",
    "\n",
    "# Assume an average grade and volatility for the future classes\n",
    "expectedGPAFutureClasses = 3.6\n",
    "volatilityFutureClasses = 0.1 # volatility for a single class\n",
    "\n",
    "# get max number of P/F classes that you can take, assuming you can only take 3 this semeseter \n",
    "remainingClassCount = 10 - numCoursesTaken\n",
    "maxNumberPFClasses = min(remainingClassCount, 3)"
   ]
  },
  {
   "cell_type": "code",
   "execution_count": 154,
   "metadata": {},
   "outputs": [],
   "source": [
    "# run simulation for the number of P/F classes taken\n",
    "num_of_sim = 100000\n",
    "df=pd.DataFrame()\n",
    "\n",
    "for i in range(maxNumberPFClasses + 1):\n",
    "    colname = \"sim_pf_class_\" + str(i)\n",
    "    numFutureClassGraded = remainingClassCount-i\n",
    "    \n",
    "    # generate simulation\n",
    "    stdev = ((volatilityFutureClasses **2) * numFutureClassGraded)**0.5 # combined volatility\n",
    "    df[colname] = np.random.normal(loc=expectedGPAFutureClasses, scale=stdev, size=num_of_sim)\n",
    "    \n",
    "    # apply limits on GPA\n",
    "    df.loc[df[colname] > 4.0, colname] = 4.0    \n",
    "    df.loc[df[colname] < 0.0, colname] = 0.0        \n",
    "    \n",
    "    # compute cumulative GPA\n",
    "    df[colname] = (df[colname] * numFutureClassGraded + currentGPA * numCoursesTaken) / (numFutureClassGraded + numCoursesTaken)\n",
    "    #plt.hist(df[colname], bins = 20)"
   ]
  },
  {
   "cell_type": "code",
   "execution_count": 155,
   "metadata": {},
   "outputs": [
    {
     "data": {
      "text/plain": [
       "Text(0.5, 1.0, 'expected GPA vs # of Pass/Fail classes taken')"
      ]
     },
     "execution_count": 155,
     "metadata": {},
     "output_type": "execute_result"
    },
    {
     "data": {
      "image/png": "[encoded data removed]",
      "text/plain": [
       "<Figure size 432x288 with 1 Axes>"
      ]
     },
     "metadata": {
      "needs_background": "light"
     },
     "output_type": "display_data"
    }
   ],
   "source": [
    "# prepare data for plot\n",
    "mean = df.mean().values.tolist()\n",
    "std = df.std()*2 # 95% confidence interval\n",
    "std = std.values.tolist()\n",
    "x_pos = [ x for x in range(maxNumberPFClasses*2+2) if x % 2 == 0]\n",
    "\n",
    "# plotting 95% confidence interval and expected GPA\n",
    "plt.figure()\n",
    "plt.errorbar(x_pos, mean, yerr=std, fmt = 'o', color = 'k')\n",
    "plt.xticks(tuple(x_pos), tuple(df.columns)) \n",
    "plt.ylabel('GPA')\n",
    "plt.title('expected GPA vs # of Pass/Fail classes taken')"
   ]
  },
  {
   "cell_type": "code",
   "execution_count": 156,
   "metadata": {},
   "outputs": [
    {
     "data": {
      "text/plain": [
       "<matplotlib.legend.Legend at 0x1fb0f928388>"
      ]
     },
     "execution_count": 156,
     "metadata": {},
     "output_type": "execute_result"
    },
    {
     "data": {
      "image/png": "[encoded data removed]",
      "text/plain": [
       "<Figure size 432x288 with 1 Axes>"
      ]
     },
     "metadata": {
      "needs_background": "light"
     },
     "output_type": "display_data"
    }
   ],
   "source": [
    "# Show simulation results by histogram\n",
    "bins = np.linspace(int(df.min()[0]), int(df.max()[0]), 30)\n",
    "for i in range(maxNumberPFClasses + 1):\n",
    "    colname = \"sim_pf_class_\" + str(i)\n",
    "    plt.hist(df[colname], bins, alpha=0.5, label=colname)\n",
    "\n",
    "plt.legend(loc='upper left')"
   ]
  }
 ],
 "metadata": {
  "kernelspec": {
   "display_name": "Python 3",
   "language": "python",
   "name": "python3"
  },
  "language_info": {
   "codemirror_mode": {
    "name": "ipython",
    "version": 3
   },
   "file_extension": ".py",
   "mimetype": "text/x-python",
   "name": "python",
   "nbconvert_exporter": "python",
   "pygments_lexer": "ipython3",
   "version": "3.7.6"
  }
 },
 "nbformat": 4,
 "nbformat_minor": 4
}
